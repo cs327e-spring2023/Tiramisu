{
 "cells": [
  {
   "cell_type": "code",
   "execution_count": null,
   "id": "cda0caaf-cea7-40e6-8b98-a81591b40721",
   "metadata": {},
   "outputs": [],
   "source": [
    "gsutil cp gs://cs327e-open-access-2/sakila.zip ."
   ]
  },
  {
   "cell_type": "code",
   "execution_count": null,
   "id": "6da5a6b5-c983-47f2-8217-63a9bf312081",
   "metadata": {},
   "outputs": [],
   "source": [
    "unzip sakila.zip"
   ]
  },
  {
   "cell_type": "code",
   "execution_count": 1,
   "id": "5a75c725-d58c-4166-972b-e458c75d3abe",
   "metadata": {},
   "outputs": [],
   "source": [
    "!mysql < /home/jupyter/sakila/sakila-database.sql"
   ]
  },
  {
   "cell_type": "code",
   "execution_count": 2,
   "id": "975d3065-3ab6-48ff-951f-ebe9967fd688",
   "metadata": {},
   "outputs": [],
   "source": [
    "!mysql < /home/jupyter/sakila/sakila-data.sql"
   ]
  },
  {
   "cell_type": "code",
   "execution_count": 3,
   "id": "cc31dcf7-3380-48f8-b4e2-1338645dd54f",
   "metadata": {},
   "outputs": [
    {
     "name": "stdout",
     "output_type": "stream",
     "text": [
      "+----------------------------+\n",
      "| Tables_in_sakila           |\n",
      "+----------------------------+\n",
      "| actor                      |\n",
      "| actor_info                 |\n",
      "| address                    |\n",
      "| category                   |\n",
      "| city                       |\n",
      "| country                    |\n",
      "| customer                   |\n",
      "| customer_list              |\n",
      "| film                       |\n",
      "| film_actor                 |\n",
      "| film_category              |\n",
      "| film_list                  |\n",
      "| film_text                  |\n",
      "| inventory                  |\n",
      "| language                   |\n",
      "| nicer_but_slower_film_list |\n",
      "| payment                    |\n",
      "| rental                     |\n",
      "| sales_by_film_category     |\n",
      "| sales_by_store             |\n",
      "| staff                      |\n",
      "| staff_list                 |\n",
      "| store                      |\n",
      "+----------------------------+\n"
     ]
    }
   ],
   "source": [
    "!mysql sakila -e \"show tables\""
   ]
  },
  {
   "cell_type": "code",
   "execution_count": 4,
   "id": "5bf23937-2ac7-472e-b012-51b91c80f647",
   "metadata": {},
   "outputs": [
    {
     "name": "stdout",
     "output_type": "stream",
     "text": [
      "+----------------------+---------------------------------------------------------------------+------+-----+-------------------+-----------------------------------------------+\n",
      "| Field                | Type                                                                | Null | Key | Default           | Extra                                         |\n",
      "+----------------------+---------------------------------------------------------------------+------+-----+-------------------+-----------------------------------------------+\n",
      "| film_id              | smallint unsigned                                                   | NO   | PRI | NULL              | auto_increment                                |\n",
      "| title                | varchar(128)                                                        | NO   | MUL | NULL              |                                               |\n",
      "| description          | text                                                                | YES  |     | NULL              |                                               |\n",
      "| release_year         | year                                                                | YES  |     | NULL              |                                               |\n",
      "| language_id          | tinyint unsigned                                                    | NO   | MUL | NULL              |                                               |\n",
      "| original_language_id | tinyint unsigned                                                    | YES  | MUL | NULL              |                                               |\n",
      "| rental_duration      | tinyint unsigned                                                    | NO   |     | 3                 |                                               |\n",
      "| rental_rate          | decimal(4,2)                                                        | NO   |     | 4.99              |                                               |\n",
      "| length               | smallint unsigned                                                   | YES  |     | NULL              |                                               |\n",
      "| replacement_cost     | decimal(5,2)                                                        | NO   |     | 19.99             |                                               |\n",
      "| rating               | enum('G','PG','PG-13','R','NC-17')                                  | YES  |     | G                 |                                               |\n",
      "| special_features     | set('Trailers','Commentaries','Deleted Scenes','Behind the Scenes') | YES  |     | NULL              |                                               |\n",
      "| last_update          | timestamp                                                           | NO   |     | CURRENT_TIMESTAMP | DEFAULT_GENERATED on update CURRENT_TIMESTAMP |\n",
      "+----------------------+---------------------------------------------------------------------+------+-----+-------------------+-----------------------------------------------+\n"
     ]
    }
   ],
   "source": [
    "!mysql sakila -e \"desc film\""
   ]
  },
  {
   "cell_type": "code",
   "execution_count": 5,
   "id": "46e11abe-1153-434e-b42f-fb76d09a4033",
   "metadata": {},
   "outputs": [
    {
     "name": "stdout",
     "output_type": "stream",
     "text": [
      "+-------------+-------------------+------+-----+-------------------+-----------------------------------------------+\n",
      "| Field       | Type              | Null | Key | Default           | Extra                                         |\n",
      "+-------------+-------------------+------+-----+-------------------+-----------------------------------------------+\n",
      "| customer_id | smallint unsigned | NO   | PRI | NULL              | auto_increment                                |\n",
      "| store_id    | tinyint unsigned  | NO   | MUL | NULL              |                                               |\n",
      "| first_name  | varchar(45)       | NO   |     | NULL              |                                               |\n",
      "| last_name   | varchar(45)       | NO   | MUL | NULL              |                                               |\n",
      "| email       | varchar(50)       | YES  |     | NULL              |                                               |\n",
      "| address_id  | smallint unsigned | NO   | MUL | NULL              |                                               |\n",
      "| active      | tinyint(1)        | NO   |     | 1                 |                                               |\n",
      "| create_date | datetime          | NO   |     | NULL              |                                               |\n",
      "| last_update | timestamp         | YES  |     | CURRENT_TIMESTAMP | DEFAULT_GENERATED on update CURRENT_TIMESTAMP |\n",
      "+-------------+-------------------+------+-----+-------------------+-----------------------------------------------+\n"
     ]
    }
   ],
   "source": [
    "!mysql sakila -e \"desc customer\""
   ]
  },
  {
   "cell_type": "code",
   "execution_count": 6,
   "id": "ddecf571-135e-4c60-bb86-66c7d43d7651",
   "metadata": {},
   "outputs": [
    {
     "name": "stdout",
     "output_type": "stream",
     "text": [
      "+-------------+-------------------+------+-----+-------------------+-----------------------------------------------+\n",
      "| Field       | Type              | Null | Key | Default           | Extra                                         |\n",
      "+-------------+-------------------+------+-----+-------------------+-----------------------------------------------+\n",
      "| actor_id    | smallint unsigned | NO   | PRI | NULL              | auto_increment                                |\n",
      "| first_name  | varchar(45)       | NO   |     | NULL              |                                               |\n",
      "| last_name   | varchar(45)       | NO   | MUL | NULL              |                                               |\n",
      "| last_update | timestamp         | NO   |     | CURRENT_TIMESTAMP | DEFAULT_GENERATED on update CURRENT_TIMESTAMP |\n",
      "+-------------+-------------------+------+-----+-------------------+-----------------------------------------------+\n"
     ]
    }
   ],
   "source": [
    "!mysql sakila -e \"desc actor\""
   ]
  },
  {
   "cell_type": "code",
   "execution_count": 7,
   "id": "bde98bd0-cdef-43b6-bb13-eac9d1fded0b",
   "metadata": {},
   "outputs": [
    {
     "name": "stdout",
     "output_type": "stream",
     "text": [
      "+--------------+--------------------+------+-----+-------------------+-----------------------------------------------+\n",
      "| Field        | Type               | Null | Key | Default           | Extra                                         |\n",
      "+--------------+--------------------+------+-----+-------------------+-----------------------------------------------+\n",
      "| rental_id    | int                | NO   | PRI | NULL              | auto_increment                                |\n",
      "| rental_date  | datetime           | NO   | MUL | NULL              |                                               |\n",
      "| inventory_id | mediumint unsigned | NO   | MUL | NULL              |                                               |\n",
      "| customer_id  | smallint unsigned  | NO   | MUL | NULL              |                                               |\n",
      "| return_date  | datetime           | YES  |     | NULL              |                                               |\n",
      "| staff_id     | tinyint unsigned   | NO   | MUL | NULL              |                                               |\n",
      "| last_update  | timestamp          | NO   |     | CURRENT_TIMESTAMP | DEFAULT_GENERATED on update CURRENT_TIMESTAMP |\n",
      "+--------------+--------------------+------+-----+-------------------+-----------------------------------------------+\n"
     ]
    }
   ],
   "source": [
    "!mysql sakila -e \"desc rental\""
   ]
  },
  {
   "cell_type": "code",
   "execution_count": 8,
   "id": "abd14990-3d7b-4c73-8548-d115aa71849a",
   "metadata": {},
   "outputs": [
    {
     "name": "stdout",
     "output_type": "stream",
     "text": [
      "+--------------+--------------------+------+-----+-------------------+-----------------------------------------------+\n",
      "| Field        | Type               | Null | Key | Default           | Extra                                         |\n",
      "+--------------+--------------------+------+-----+-------------------+-----------------------------------------------+\n",
      "| inventory_id | mediumint unsigned | NO   | PRI | NULL              | auto_increment                                |\n",
      "| film_id      | smallint unsigned  | NO   | MUL | NULL              |                                               |\n",
      "| store_id     | tinyint unsigned   | NO   | MUL | NULL              |                                               |\n",
      "| last_update  | timestamp          | NO   |     | CURRENT_TIMESTAMP | DEFAULT_GENERATED on update CURRENT_TIMESTAMP |\n",
      "+--------------+--------------------+------+-----+-------------------+-----------------------------------------------+\n"
     ]
    }
   ],
   "source": [
    "!mysql sakila -e \"desc inventory\""
   ]
  },
  {
   "cell_type": "code",
   "execution_count": 9,
   "id": "03e308e7-7c05-4ca0-a8ef-7645e0a02255",
   "metadata": {},
   "outputs": [
    {
     "name": "stdout",
     "output_type": "stream",
     "text": [
      "+----------+\n",
      "| count(*) |\n",
      "+----------+\n",
      "|     1000 |\n",
      "+----------+\n"
     ]
    }
   ],
   "source": [
    "# row count for film\n",
    "!mysql sakila -e \"select count(*) from film\""
   ]
  },
  {
   "cell_type": "code",
   "execution_count": 10,
   "id": "6eb0af4e-fef9-4a95-a03c-54ec194fe498",
   "metadata": {},
   "outputs": [
    {
     "name": "stdout",
     "output_type": "stream",
     "text": [
      "+----------+\n",
      "| count(*) |\n",
      "+----------+\n",
      "|      599 |\n",
      "+----------+\n"
     ]
    }
   ],
   "source": [
    "# row count for customer\n",
    "!mysql sakila -e \"select count(*) from customer\""
   ]
  },
  {
   "cell_type": "code",
   "execution_count": 11,
   "id": "cc6b29d8-bc8a-4116-9d80-59dbe79b1d9e",
   "metadata": {},
   "outputs": [
    {
     "name": "stdout",
     "output_type": "stream",
     "text": [
      "+----------+\n",
      "| count(*) |\n",
      "+----------+\n",
      "|      200 |\n",
      "+----------+\n"
     ]
    }
   ],
   "source": [
    "# row count for actor\n",
    "!mysql sakila -e \"select count(*) from actor\""
   ]
  },
  {
   "cell_type": "code",
   "execution_count": 12,
   "id": "ebd4dab7-1a0a-4596-975a-7c10ce10e0b4",
   "metadata": {},
   "outputs": [
    {
     "name": "stdout",
     "output_type": "stream",
     "text": [
      "+----------+\n",
      "| count(*) |\n",
      "+----------+\n",
      "|    16044 |\n",
      "+----------+\n"
     ]
    }
   ],
   "source": [
    "# row count for rental\n",
    "!mysql sakila -e \"select count(*) from rental\""
   ]
  },
  {
   "cell_type": "code",
   "execution_count": 13,
   "id": "1c5da81e-af43-480c-87a2-6fa0b16fe2cb",
   "metadata": {},
   "outputs": [
    {
     "name": "stdout",
     "output_type": "stream",
     "text": [
      "+----------+\n",
      "| count(*) |\n",
      "+----------+\n",
      "|     4581 |\n",
      "+----------+\n"
     ]
    }
   ],
   "source": [
    "# row count for inventory\n",
    "!mysql sakila -e \"select count(*) from inventory\""
   ]
  },
  {
   "cell_type": "code",
   "execution_count": 14,
   "id": "b149625b-71d3-4bd4-ac0b-9088d7289b4f",
   "metadata": {},
   "outputs": [
    {
     "name": "stdout",
     "output_type": "stream",
     "text": [
      "+---------+------------------+-----------------------------------------------------------------------------------------------------------------------+--------------+-------------+----------------------+-----------------+-------------+--------+------------------+--------+----------------------------------+---------------------+\n",
      "| film_id | title            | description                                                                                                           | release_year | language_id | original_language_id | rental_duration | rental_rate | length | replacement_cost | rating | special_features                 | last_update         |\n",
      "+---------+------------------+-----------------------------------------------------------------------------------------------------------------------+--------------+-------------+----------------------+-----------------+-------------+--------+------------------+--------+----------------------------------+---------------------+\n",
      "|       1 | ACADEMY DINOSAUR | A Epic Drama of a Feminist And a Mad Scientist who must Battle a Teacher in The Canadian Rockies                      |         2006 |           1 |                 NULL |               6 |        0.99 |     86 |            20.99 | PG     | Deleted Scenes,Behind the Scenes | 2006-02-15 05:03:42 |\n",
      "|       2 | ACE GOLDFINGER   | A Astounding Epistle of a Database Administrator And a Explorer who must Find a Car in Ancient China                  |         2006 |           1 |                 NULL |               3 |        4.99 |     48 |            12.99 | G      | Trailers,Deleted Scenes          | 2006-02-15 05:03:42 |\n",
      "|       3 | ADAPTATION HOLES | A Astounding Reflection of a Lumberjack And a Car who must Sink a Lumberjack in A Baloon Factory                      |         2006 |           1 |                 NULL |               7 |        2.99 |     50 |            18.99 | NC-17  | Trailers,Deleted Scenes          | 2006-02-15 05:03:42 |\n",
      "|       4 | AFFAIR PREJUDICE | A Fanciful Documentary of a Frisbee And a Lumberjack who must Chase a Monkey in A Shark Tank                          |         2006 |           1 |                 NULL |               5 |        2.99 |    117 |            26.99 | G      | Commentaries,Behind the Scenes   | 2006-02-15 05:03:42 |\n",
      "|       5 | AFRICAN EGG      | A Fast-Paced Documentary of a Pastry Chef And a Dentist who must Pursue a Forensic Psychologist in The Gulf of Mexico |         2006 |           1 |                 NULL |               6 |        2.99 |    130 |            22.99 | G      | Deleted Scenes                   | 2006-02-15 05:03:42 |\n",
      "|       6 | AGENT TRUMAN     | A Intrepid Panorama of a Robot And a Boy who must Escape a Sumo Wrestler in Ancient China                             |         2006 |           1 |                 NULL |               3 |        2.99 |    169 |            17.99 | PG     | Deleted Scenes                   | 2006-02-15 05:03:42 |\n",
      "|       7 | AIRPLANE SIERRA  | A Touching Saga of a Hunter And a Butler who must Discover a Butler in A Jet Boat                                     |         2006 |           1 |                 NULL |               6 |        4.99 |     62 |            28.99 | PG-13  | Trailers,Deleted Scenes          | 2006-02-15 05:03:42 |\n",
      "|       8 | AIRPORT POLLOCK  | A Epic Tale of a Moose And a Girl who must Confront a Monkey in Ancient India                                         |         2006 |           1 |                 NULL |               6 |        4.99 |     54 |            15.99 | R      | Trailers                         | 2006-02-15 05:03:42 |\n",
      "|       9 | ALABAMA DEVIL    | A Thoughtful Panorama of a Database Administrator And a Mad Scientist who must Outgun a Mad Scientist in A Jet Boat   |         2006 |           1 |                 NULL |               3 |        2.99 |    114 |            21.99 | PG-13  | Trailers,Deleted Scenes          | 2006-02-15 05:03:42 |\n",
      "|      10 | ALADDIN CALENDAR | A Action-Packed Tale of a Man And a Lumberjack who must Reach a Feminist in Ancient China                             |         2006 |           1 |                 NULL |               6 |        4.99 |     63 |            24.99 | NC-17  | Trailers,Deleted Scenes          | 2006-02-15 05:03:42 |\n",
      "+---------+------------------+-----------------------------------------------------------------------------------------------------------------------+--------------+-------------+----------------------+-----------------+-------------+--------+------------------+--------+----------------------------------+---------------------+\n"
     ]
    }
   ],
   "source": [
    "!mysql sakila -e \"select * from film limit 10\""
   ]
  },
  {
   "cell_type": "code",
   "execution_count": 15,
   "id": "f0c27c64-80a9-40ff-a4c3-691da2aa5370",
   "metadata": {},
   "outputs": [
    {
     "name": "stdout",
     "output_type": "stream",
     "text": [
      "+-------------+----------+------------+-----------+-------------------------------------+------------+--------+---------------------+---------------------+\n",
      "| customer_id | store_id | first_name | last_name | email                               | address_id | active | create_date         | last_update         |\n",
      "+-------------+----------+------------+-----------+-------------------------------------+------------+--------+---------------------+---------------------+\n",
      "|           1 |        1 | MARY       | SMITH     | MARY.SMITH@sakilacustomer.org       |          5 |      1 | 2006-02-14 22:04:36 | 2006-02-15 04:57:20 |\n",
      "|           2 |        1 | PATRICIA   | JOHNSON   | PATRICIA.JOHNSON@sakilacustomer.org |          6 |      1 | 2006-02-14 22:04:36 | 2006-02-15 04:57:20 |\n",
      "|           3 |        1 | LINDA      | WILLIAMS  | LINDA.WILLIAMS@sakilacustomer.org   |          7 |      1 | 2006-02-14 22:04:36 | 2006-02-15 04:57:20 |\n",
      "|           4 |        2 | BARBARA    | JONES     | BARBARA.JONES@sakilacustomer.org    |          8 |      1 | 2006-02-14 22:04:36 | 2006-02-15 04:57:20 |\n",
      "|           5 |        1 | ELIZABETH  | BROWN     | ELIZABETH.BROWN@sakilacustomer.org  |          9 |      1 | 2006-02-14 22:04:36 | 2006-02-15 04:57:20 |\n",
      "|           6 |        2 | JENNIFER   | DAVIS     | JENNIFER.DAVIS@sakilacustomer.org   |         10 |      1 | 2006-02-14 22:04:36 | 2006-02-15 04:57:20 |\n",
      "|           7 |        1 | MARIA      | MILLER    | MARIA.MILLER@sakilacustomer.org     |         11 |      1 | 2006-02-14 22:04:36 | 2006-02-15 04:57:20 |\n",
      "|           8 |        2 | SUSAN      | WILSON    | SUSAN.WILSON@sakilacustomer.org     |         12 |      1 | 2006-02-14 22:04:36 | 2006-02-15 04:57:20 |\n",
      "|           9 |        2 | MARGARET   | MOORE     | MARGARET.MOORE@sakilacustomer.org   |         13 |      1 | 2006-02-14 22:04:36 | 2006-02-15 04:57:20 |\n",
      "|          10 |        1 | DOROTHY    | TAYLOR    | DOROTHY.TAYLOR@sakilacustomer.org   |         14 |      1 | 2006-02-14 22:04:36 | 2006-02-15 04:57:20 |\n",
      "+-------------+----------+------------+-----------+-------------------------------------+------------+--------+---------------------+---------------------+\n"
     ]
    }
   ],
   "source": [
    "!mysql sakila -e \"select * from customer limit 10\""
   ]
  },
  {
   "cell_type": "code",
   "execution_count": 16,
   "id": "4d95a6be-c19e-4089-8809-f6c44059d97b",
   "metadata": {},
   "outputs": [
    {
     "name": "stdout",
     "output_type": "stream",
     "text": [
      "+----------+------------+--------------+---------------------+\n",
      "| actor_id | first_name | last_name    | last_update         |\n",
      "+----------+------------+--------------+---------------------+\n",
      "|        1 | PENELOPE   | GUINESS      | 2006-02-15 04:34:33 |\n",
      "|        2 | NICK       | WAHLBERG     | 2006-02-15 04:34:33 |\n",
      "|        3 | ED         | CHASE        | 2006-02-15 04:34:33 |\n",
      "|        4 | JENNIFER   | DAVIS        | 2006-02-15 04:34:33 |\n",
      "|        5 | JOHNNY     | LOLLOBRIGIDA | 2006-02-15 04:34:33 |\n",
      "|        6 | BETTE      | NICHOLSON    | 2006-02-15 04:34:33 |\n",
      "|        7 | GRACE      | MOSTEL       | 2006-02-15 04:34:33 |\n",
      "|        8 | MATTHEW    | JOHANSSON    | 2006-02-15 04:34:33 |\n",
      "|        9 | JOE        | SWANK        | 2006-02-15 04:34:33 |\n",
      "|       10 | CHRISTIAN  | GABLE        | 2006-02-15 04:34:33 |\n",
      "+----------+------------+--------------+---------------------+\n"
     ]
    }
   ],
   "source": [
    "!mysql sakila -e \"select * from actor limit 10\""
   ]
  },
  {
   "cell_type": "code",
   "execution_count": 17,
   "id": "acc60b3a-219b-4c23-8ff3-181fa2227385",
   "metadata": {},
   "outputs": [
    {
     "name": "stdout",
     "output_type": "stream",
     "text": [
      "+-----------+---------------------+--------------+-------------+---------------------+----------+---------------------+\n",
      "| rental_id | rental_date         | inventory_id | customer_id | return_date         | staff_id | last_update         |\n",
      "+-----------+---------------------+--------------+-------------+---------------------+----------+---------------------+\n",
      "|         1 | 2005-05-24 22:53:30 |          367 |         130 | 2005-05-26 22:04:30 |        1 | 2006-02-15 21:30:53 |\n",
      "|         2 | 2005-05-24 22:54:33 |         1525 |         459 | 2005-05-28 19:40:33 |        1 | 2006-02-15 21:30:53 |\n",
      "|         3 | 2005-05-24 23:03:39 |         1711 |         408 | 2005-06-01 22:12:39 |        1 | 2006-02-15 21:30:53 |\n",
      "|         4 | 2005-05-24 23:04:41 |         2452 |         333 | 2005-06-03 01:43:41 |        2 | 2006-02-15 21:30:53 |\n",
      "|         5 | 2005-05-24 23:05:21 |         2079 |         222 | 2005-06-02 04:33:21 |        1 | 2006-02-15 21:30:53 |\n",
      "|         6 | 2005-05-24 23:08:07 |         2792 |         549 | 2005-05-27 01:32:07 |        1 | 2006-02-15 21:30:53 |\n",
      "|         7 | 2005-05-24 23:11:53 |         3995 |         269 | 2005-05-29 20:34:53 |        2 | 2006-02-15 21:30:53 |\n",
      "|         8 | 2005-05-24 23:31:46 |         2346 |         239 | 2005-05-27 23:33:46 |        2 | 2006-02-15 21:30:53 |\n",
      "|         9 | 2005-05-25 00:00:40 |         2580 |         126 | 2005-05-28 00:22:40 |        1 | 2006-02-15 21:30:53 |\n",
      "|        10 | 2005-05-25 00:02:21 |         1824 |         399 | 2005-05-31 22:44:21 |        2 | 2006-02-15 21:30:53 |\n",
      "+-----------+---------------------+--------------+-------------+---------------------+----------+---------------------+\n"
     ]
    }
   ],
   "source": [
    "!mysql sakila -e \"select * from rental limit 10\""
   ]
  },
  {
   "cell_type": "code",
   "execution_count": 18,
   "id": "1516e787-62b3-4f2e-80ea-9e3fbc81ab3c",
   "metadata": {},
   "outputs": [
    {
     "name": "stdout",
     "output_type": "stream",
     "text": [
      "+--------------+---------+----------+---------------------+\n",
      "| inventory_id | film_id | store_id | last_update         |\n",
      "+--------------+---------+----------+---------------------+\n",
      "|            1 |       1 |        1 | 2006-02-15 05:09:17 |\n",
      "|            2 |       1 |        1 | 2006-02-15 05:09:17 |\n",
      "|            3 |       1 |        1 | 2006-02-15 05:09:17 |\n",
      "|            4 |       1 |        1 | 2006-02-15 05:09:17 |\n",
      "|            5 |       1 |        2 | 2006-02-15 05:09:17 |\n",
      "|            6 |       1 |        2 | 2006-02-15 05:09:17 |\n",
      "|            7 |       1 |        2 | 2006-02-15 05:09:17 |\n",
      "|            8 |       1 |        2 | 2006-02-15 05:09:17 |\n",
      "|            9 |       2 |        2 | 2006-02-15 05:09:17 |\n",
      "|           10 |       2 |        2 | 2006-02-15 05:09:17 |\n",
      "+--------------+---------+----------+---------------------+\n"
     ]
    }
   ],
   "source": [
    "!mysql sakila -e \"select * from inventory limit 10\""
   ]
  },
  {
   "cell_type": "code",
   "execution_count": 19,
   "id": "bf2c7e28-14cb-46f1-a6d7-66317c41820e",
   "metadata": {},
   "outputs": [
    {
     "name": "stdout",
     "output_type": "stream",
     "text": [
      "+-------------+----------+------------+-------------+--------------------------------------+------------+--------+---------------------+---------------------+\n",
      "| customer_id | store_id | first_name | last_name   | email                                | address_id | active | create_date         | last_update         |\n",
      "+-------------+----------+------------+-------------+--------------------------------------+------------+--------+---------------------+---------------------+\n",
      "|         375 |        2 | AARON      | SELBY       | AARON.SELBY@sakilacustomer.org       |        380 |      1 | 2006-02-14 22:04:37 | 2006-02-15 04:57:20 |\n",
      "|         525 |        2 | ADRIAN     | CLARY       | ADRIAN.CLARY@sakilacustomer.org      |        531 |      1 | 2006-02-14 22:04:37 | 2006-02-15 04:57:20 |\n",
      "|         217 |        2 | AGNES      | BISHOP      | AGNES.BISHOP@sakilacustomer.org      |        221 |      1 | 2006-02-14 22:04:36 | 2006-02-15 04:57:20 |\n",
      "|         568 |        2 | ALBERTO    | HENNING     | ALBERTO.HENNING@sakilacustomer.org   |        574 |      1 | 2006-02-14 22:04:37 | 2006-02-15 04:57:20 |\n",
      "|         454 |        2 | ALEX       | GRESHAM     | ALEX.GRESHAM@sakilacustomer.org      |        459 |      1 | 2006-02-14 22:04:37 | 2006-02-15 04:57:20 |\n",
      "|         439 |        2 | ALEXANDER  | FENNELL     | ALEXANDER.FENNELL@sakilacustomer.org |        444 |      1 | 2006-02-14 22:04:37 | 2006-02-15 04:57:20 |\n",
      "|         423 |        2 | ALFRED     | CASILLAS    | ALFRED.CASILLAS@sakilacustomer.org   |        428 |      1 | 2006-02-14 22:04:37 | 2006-02-15 04:57:20 |\n",
      "|         567 |        2 | ALFREDO    | MCADAMS     | ALFREDO.MCADAMS@sakilacustomer.org   |        573 |      1 | 2006-02-14 22:04:37 | 2006-02-15 04:57:20 |\n",
      "|         412 |        2 | ALLEN      | BUTTERFIELD | ALLEN.BUTTERFIELD@sakilacustomer.org |        417 |      1 | 2006-02-14 22:04:37 | 2006-02-15 04:57:20 |\n",
      "|         228 |        2 | ALLISON    | STANLEY     | ALLISON.STANLEY@sakilacustomer.org   |        232 |      1 | 2006-02-14 22:04:36 | 2006-02-15 04:57:20 |\n",
      "+-------------+----------+------------+-------------+--------------------------------------+------------+--------+---------------------+---------------------+\n"
     ]
    }
   ],
   "source": [
    "# This query searches in the table named \"customer\" and searches for when the store_id attribute is equal to 2.\n",
    "# The query results are sorted by alphbetical ascending order and is limited to showing 10 tuples or rows.\n",
    "!mysql sakila -e \"select * from customer where store_id=2 order by first_name ASC limit 10\""
   ]
  },
  {
   "cell_type": "code",
   "execution_count": 20,
   "id": "410ae89f-d1fb-4582-aa61-a78bba0ce616",
   "metadata": {},
   "outputs": [],
   "source": [
    "# This insert statement creates a new entry in the actor table. The actor_id was chosen as to not conflict with preexisting entries.\n",
    "# The values were arranged in the manner of the previous tuples/rows of the other entries.\n",
    "!mysql sakila -e \"insert into actor (actor_id, first_name, last_name, last_update) values (201, 'MY', 'TANG', '2006-02-15 04:34:33')\""
   ]
  },
  {
   "cell_type": "code",
   "execution_count": 21,
   "id": "3f6eb56f-3f83-44ff-9b8d-0f0b7d440b30",
   "metadata": {},
   "outputs": [
    {
     "name": "stdout",
     "output_type": "stream",
     "text": [
      "+----------+------------+-----------+---------------------+\n",
      "| actor_id | first_name | last_name | last_update         |\n",
      "+----------+------------+-----------+---------------------+\n",
      "|      201 | MY         | TANG      | 2006-02-15 04:34:33 |\n",
      "+----------+------------+-----------+---------------------+\n"
     ]
    }
   ],
   "source": [
    "# Checks the success of the insert statement.\n",
    "!mysql sakila -e \"select * from actor where actor_id=201\""
   ]
  },
  {
   "cell_type": "code",
   "execution_count": 22,
   "id": "c07c5389-2b3d-4b05-86a7-098ee7fce7a5",
   "metadata": {},
   "outputs": [],
   "source": [
    "# This update statement updates table customer where the actor_id is equal to 201.\n",
    "!mysql sakila -e \"update actor set first_name='JOSHUA', last_name='LOUIE' where actor_id=201\""
   ]
  },
  {
   "cell_type": "code",
   "execution_count": 23,
   "id": "ad4d034e-f98e-4701-a150-7c9f6146e6e8",
   "metadata": {},
   "outputs": [
    {
     "name": "stdout",
     "output_type": "stream",
     "text": [
      "+----------+------------+-----------+---------------------+\n",
      "| actor_id | first_name | last_name | last_update         |\n",
      "+----------+------------+-----------+---------------------+\n",
      "|      201 | JOSHUA     | LOUIE     | 2023-02-09 03:23:36 |\n",
      "+----------+------------+-----------+---------------------+\n"
     ]
    }
   ],
   "source": [
    "# Checks the success of the update statement.\n",
    "!mysql sakila -e \"select * from actor where actor_id=201\""
   ]
  },
  {
   "cell_type": "code",
   "execution_count": 24,
   "id": "f1309601-b731-4f56-acb9-79e700dd3fcf",
   "metadata": {},
   "outputs": [],
   "source": [
    "# This delete statement removes the entry where actor_id is equal to 201.\n",
    "!mysql sakila -e \"delete from actor where actor_id=201\""
   ]
  },
  {
   "cell_type": "code",
   "execution_count": 25,
   "id": "fc0a78da-64c8-45bd-ac29-68e47c8015e3",
   "metadata": {},
   "outputs": [],
   "source": [
    "# Check the success of the delete statement. Nothing should be returned if it is successful.\n",
    "!mysql sakila -e \"select * from actor where actor_id=201\""
   ]
  }
 ],
 "metadata": {
  "environment": {
   "kernel": "python3",
   "name": "common-cpu.m103",
   "type": "gcloud",
   "uri": "gcr.io/deeplearning-platform-release/base-cpu:m103"
  },
  "kernelspec": {
   "display_name": "Python 3",
   "language": "python",
   "name": "python3"
  },
  "language_info": {
   "codemirror_mode": {
    "name": "ipython",
    "version": 3
   },
   "file_extension": ".py",
   "mimetype": "text/x-python",
   "name": "python",
   "nbconvert_exporter": "python",
   "pygments_lexer": "ipython3",
   "version": "3.7.12"
  }
 },
 "nbformat": 4,
 "nbformat_minor": 5
}
