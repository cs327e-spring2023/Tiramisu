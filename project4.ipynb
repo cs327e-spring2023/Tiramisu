{
 "cells": [
  {
   "cell_type": "code",
   "execution_count": 1,
   "id": "4f6856c1-3d4d-4c22-a671-010ac6870e80",
   "metadata": {},
   "outputs": [
    {
     "name": "stdout",
     "output_type": "stream",
     "text": [
      "Copying gs://cs327e-open-access-2/postgres_shopify.zip...\n",
      "/ [1 files][  3.2 MiB/  3.2 MiB]                                                \n",
      "Operation completed over 1 objects/3.2 MiB.                                      \n"
     ]
    }
   ],
   "source": [
    "!gsutil cp gs://cs327e-open-access-2/postgres_shopify.zip ."
   ]
  },
  {
   "cell_type": "code",
   "execution_count": null,
   "id": "24016e7c-f248-42e3-a707-328bda0563fc",
   "metadata": {},
   "outputs": [
    {
     "name": "stdout",
     "output_type": "stream",
     "text": [
      "Archive:  postgres_shopify.zip\n",
      "replace postgres_shopify/apps.csv? [y]es, [n]o, [A]ll, [N]one, [r]ename: "
     ]
    }
   ],
   "source": [
    "!unzip postgres_shopify.zip"
   ]
  },
  {
   "cell_type": "code",
   "execution_count": null,
   "id": "773ad31e-e26f-4664-9f0a-e64d19896838",
   "metadata": {},
   "outputs": [],
   "source": [
    "import pandas as pd\n",
    "from google.cloud import firestore\n",
    "db = firestore.Client()\n",
    "batch = db.batch()"
   ]
  },
  {
   "cell_type": "code",
   "execution_count": null,
   "id": "fc349622-5dd3-4514-8712-2e09f158625b",
   "metadata": {},
   "outputs": [],
   "source": [
    "df1 = pd.read_csv('postgres_shopify/apps_categories.csv')\n",
    "\n",
    "df2 = pd.read_csv('postgres_shopify/categories.csv')\n",
    "\n",
    "combined_df = pd.merge(df1, df2, left_on = 'category_id', right_on = 'id')\n",
    "\n",
    "combined_df.to_csv('combined.csv', index = False)"
   ]
  },
  {
   "cell_type": "code",
   "execution_count": null,
   "id": "4058e96b-3dea-4c53-8233-51ab9c963c25",
   "metadata": {},
   "outputs": [],
   "source": [
    "batch = db.batch()\n",
    "\n",
    "df = pd.read_csv('postgres_shopify/key_benefits.csv', sep = ',', header = 0, lineterminator = '\\n')\n",
    "key_benefits_rows = df.values.tolist()\n",
    "\n",
    "df = pd.read_csv('postgres_shopify/apps.csv', sep = ',', header = 0, lineterminator = '\\n')\n",
    "apps_rows = df.values.tolist()\n",
    "\n",
    "for key_benefits_row in key_benefits_rows:\n",
    "    key_benefits_record = {}\n",
    "    key_benefits_record['app_id'] = key_benefits_row[0]\n",
    "    key_benefits_record['title'] = key_benefits_row[1]\n",
    "    key_benefits_record['description'] = key_benefits_row[2]\n",
    "    \n",
    "    key_benefits_ref = db.collection('key_benefits').document(key_benefits_row[0])\n",
    "    \n",
    "    batch.set(key_benefits_ref, key_benefits_record)\n",
    "    \n",
    "    for row in apps_rows:\n",
    "        if key_benefits_row[0] == apps_row[0]:\n",
    "            apps_record = {}\n",
    "            apps_record['id'] = apps_row[0]\n",
    "            apps_record['url'] = apps_row[1]\n",
    "            apps_record['title'] = apps_row[2]\n",
    "            apps_record['developer'] = apps_row[3]\n",
    "            apps_record['developer_link'] = apps_row[4]\n",
    "            apps_record['icon'] = apps_row[5]\n",
    "            apps_record['rating'] = apps_row[6]\n",
    "            apps_record['review_count'] = apps_row[7]\n",
    "            \n",
    "            apps_ref = key_benefits_ref.collection('APPs').document(apps_row[0])\n",
    "            \n",
    "            batch.set(apps_ref, apps_record)\n",
    "    batch.commit()"
   ]
  },
  {
   "cell_type": "code",
   "execution_count": null,
   "id": "c9808b38-d3dc-4b4f-b6db-a7bab59a1559",
   "metadata": {},
   "outputs": [],
   "source": [
    "batch = db.batch()\n",
    "\n",
    "df = pd.read_csv('postgres_shopify/pricing_plans.csv', sep = ',', header = 0, lineterminator = '\\n')\n",
    "pp_rows = df.values.tolist()\n",
    "\n",
    "df = pd.read_csv('postgres_shopify/pricing_plan_features.csv', sep = ',', header = 0, lineterminator = '\\n')\n",
    "pf_rows = df.values.tolist()\n",
    "\n",
    "for row in pricing_rows:\n",
    "    pp_record = {}\n",
    "    pp_record['id'] = row[0]\n",
    "    pp_record['app_id'] = row[1]\n",
    "    pp_record['title'] = row[2]\n",
    "    pp_record['price'] = row[3]\n",
    "    \n",
    "    pp_ref = db.collection('Pricing_plan_details').document(pp_rows[0])\n",
    "    batch.set(pp_ref, pp_record)\n",
    "    \n",
    "    for row in feature_rows:\n",
    "        if pp_rows[1] == row[0]:\n",
    "            pf_record = {}\n",
    "            pf_record['app_id'] = row[0]\n",
    "            pf_record['pricing_plan_id'] = row[1]\n",
    "            pf_record['feature'] = row[2]\n",
    "            \n",
    "            pf_ref = pp_ref.collection('pricing_plan_feature').document(pf_row[1])\n",
    "            batch.set(pf_ref, pf_record)\n",
    "    batch.commit()"
   ]
  },
  {
   "cell_type": "code",
   "execution_count": null,
   "id": "ded170a6-3a14-456c-b4af-8be9524dddff",
   "metadata": {},
   "outputs": [],
   "source": [
    "batch = db.batch()\n",
    "\n",
    "df = pd.read_csv('combined.csv', sep = ',', header = 0, lineterminator = '\\n')\n",
    "c_rows = df.values.tolist()\n",
    "\n",
    "df = pd.read_csv('postgres_shopify/apps.csv', sep = ',', header = 0, lineterminator = '\\n')\n",
    "apps_rows = df.values.tolist()\n",
    "\n",
    "for rows in c_rows:\n",
    "    c_record = {}\n",
    "    c_record['app_id'] = rows[0]\n",
    "    c_record['category_id'] = rows[1]\n",
    "    c_record['title'] = rows[3]\n",
    "    \n",
    "    c_ref = db.collection('category').document(rows[1])\n",
    "    batch.set(c_ref, c_record)\n",
    "    for row in apps_rows:\n",
    "        if rows[0] == row[0]:\n",
    "            apps_record = {}\n",
    "            apps_record['id'] = row[0]\n",
    "            apps_record['url'] = row[1]\n",
    "            apps_record['title'] = row[2]\n",
    "            apps_record['developer'] = row[3]\n",
    "            apps_record['developer_link'] = row[4]\n",
    "            apps_record['icon'] = row[5]\n",
    "            apps_record['rating'] = row[6]\n",
    "            apps_record['review_count'] = row[7]\n",
    "            \n",
    "            apps_ref = c_ref.collection('apps').document(apps_row[0])\n",
    "            "
   ]
  },
  {
   "cell_type": "code",
   "execution_count": null,
   "id": "4e315138-2b93-46b6-924d-2134adb6f103",
   "metadata": {},
   "outputs": [],
   "source": [
    "categories_ref = db.collection('category')\n",
    "query = categories_ref.where('title', '==', 'Productivity')\n",
    "docs = query.stream()\n",
    "for doc in docs:\n",
    "    query = categories_ref.document(doc.id).collection('apps').order_by('rating', direction = firestore.Query.DESCENDING).limit(10)\n",
    "    nresults = query.stream()\n",
    "    \n",
    "    for result in nresults:\n",
    "        app_data = result.to_dict()\n",
    "        app_id = result.id\n",
    "        app_title = app_data['title']\n",
    "        app_developer = app_data['developer']\n",
    "        app_rating = app_data['rating']\n",
    "        app_reviews_count = app_data['review_count']\n",
    "        print(\n",
    "            f\"ID: {app_id}\\nTitle: {app_title}\\nDeveloper: {app_developer}\\nRating: {app_rating}\\nReviews Count: {app_reviews_count}\\n\"\n",
    "        )"
   ]
  },
  {
   "cell_type": "code",
   "execution_count": null,
   "id": "4efd41a6-a5e2-4790-ac01-7a685d0a862d",
   "metadata": {},
   "outputs": [],
   "source": [
    "apps_ref = db.collection('apps')\n",
    "query = apps_ref.order_by('review_count', direction = firestore.Query.DESCENDING).limit(10)\n",
    "docs = query.stream()\n",
    "for doc in docs:\n",
    "    app_data = doc.to_dict()\n",
    "    app_id = doc.id\n",
    "    app_title = app_data['title']\n",
    "    app_developer = app_data['developer']\n",
    "    app_rating = app_data['rating']\n",
    "    app_reviews_count = app_data['review_count']\n",
    "    print(\n",
    "        f\"ID: {app_id}\\nTitle: {app_title}\\nDeveloper: {app_developer}\\nRating: {app_rating}\\nReviews Count: {app_reviews_count}\\n\"\n",
    "    )"
   ]
  }
 ],
 "metadata": {
  "environment": {
   "kernel": "python3",
   "name": "common-cpu.m105",
   "type": "gcloud",
   "uri": "gcr.io/deeplearning-platform-release/base-cpu:m105"
  },
  "kernelspec": {
   "display_name": "Python 3 (ipykernel)",
   "language": "python",
   "name": "python3"
  },
  "language_info": {
   "codemirror_mode": {
    "name": "ipython",
    "version": 3
   },
   "file_extension": ".py",
   "mimetype": "text/x-python",
   "name": "python",
   "nbconvert_exporter": "python",
   "pygments_lexer": "ipython3",
   "version": "3.7.12"
  }
 },
 "nbformat": 4,
 "nbformat_minor": 5
}
